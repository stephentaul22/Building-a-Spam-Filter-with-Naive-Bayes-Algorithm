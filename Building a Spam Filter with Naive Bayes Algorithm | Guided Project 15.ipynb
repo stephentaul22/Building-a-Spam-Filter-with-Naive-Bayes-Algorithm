{
 "cells": [
  {
   "cell_type": "markdown",
   "metadata": {},
   "source": [
    "# Building a Spam Filter with Naive Bayes Algorithm\n",
    "Spam is a common nuisance in the age of information. Today, I will build a spam filter using the multinomial Naive Bayes algorithm.\n",
    "\n",
    "I will use a [dataset of 5,572 English, real, non-encoded SMS messages](https://dq-content.s3.amazonaws.com/433/SMSSpamCollection) collected by Tiago A. Almeida and José María Gómez Hidalgo. In the dataset, the SMS messages are classified as either \"ham\" (legitimate) or \"spam.\" The data has been collected from numerous sources: the [UK spam-reporting website Grumbletext](http://www.grumbletext.co.uk/), the [NUS SMS Corpus](http://www.comp.nus.edu.sg/%7Erpnlpir/downloads/corpora/smsCorpus/), [Caroline Tag's PhD thesis](http://etheses.bham.ac.uk/253/1/Tagg09PhD.pdf), and the [SMS Spam Corpus v.0.1 Big](http://www.esp.uem.es/jmgomez/smsspamcorpus/). Information on how the dataset was collected and from where can be found [here](http://www.dt.fee.unicamp.br/~tiago/smsspamcollection/#composition)."
   ]
  },
  {
   "cell_type": "code",
   "execution_count": 1,
   "metadata": {},
   "outputs": [
    {
     "data": {
      "text/plain": [
       "(5572, 2)"
      ]
     },
     "execution_count": 1,
     "metadata": {},
     "output_type": "execute_result"
    }
   ],
   "source": [
    "import pandas as pd\n",
    "\n",
    "sms = pd.read_csv('SMSSpamCollection', sep='\\t', header=None, names=['Label', 'SMS'])\n",
    "\n",
    "sms.shape"
   ]
  },
  {
   "cell_type": "code",
   "execution_count": 2,
   "metadata": {},
   "outputs": [
    {
     "data": {
      "text/html": [
       "<div>\n",
       "<style scoped>\n",
       "    .dataframe tbody tr th:only-of-type {\n",
       "        vertical-align: middle;\n",
       "    }\n",
       "\n",
       "    .dataframe tbody tr th {\n",
       "        vertical-align: top;\n",
       "    }\n",
       "\n",
       "    .dataframe thead th {\n",
       "        text-align: right;\n",
       "    }\n",
       "</style>\n",
       "<table border=\"1\" class=\"dataframe\">\n",
       "  <thead>\n",
       "    <tr style=\"text-align: right;\">\n",
       "      <th></th>\n",
       "      <th>Label</th>\n",
       "      <th>SMS</th>\n",
       "    </tr>\n",
       "  </thead>\n",
       "  <tbody>\n",
       "    <tr>\n",
       "      <td>0</td>\n",
       "      <td>ham</td>\n",
       "      <td>Go until jurong point, crazy.. Available only ...</td>\n",
       "    </tr>\n",
       "    <tr>\n",
       "      <td>1</td>\n",
       "      <td>ham</td>\n",
       "      <td>Ok lar... Joking wif u oni...</td>\n",
       "    </tr>\n",
       "    <tr>\n",
       "      <td>2</td>\n",
       "      <td>spam</td>\n",
       "      <td>Free entry in 2 a wkly comp to win FA Cup fina...</td>\n",
       "    </tr>\n",
       "    <tr>\n",
       "      <td>3</td>\n",
       "      <td>ham</td>\n",
       "      <td>U dun say so early hor... U c already then say...</td>\n",
       "    </tr>\n",
       "    <tr>\n",
       "      <td>4</td>\n",
       "      <td>ham</td>\n",
       "      <td>Nah I don't think he goes to usf, he lives aro...</td>\n",
       "    </tr>\n",
       "    <tr>\n",
       "      <td>...</td>\n",
       "      <td>...</td>\n",
       "      <td>...</td>\n",
       "    </tr>\n",
       "    <tr>\n",
       "      <td>5567</td>\n",
       "      <td>spam</td>\n",
       "      <td>This is the 2nd time we have tried 2 contact u...</td>\n",
       "    </tr>\n",
       "    <tr>\n",
       "      <td>5568</td>\n",
       "      <td>ham</td>\n",
       "      <td>Will ü b going to esplanade fr home?</td>\n",
       "    </tr>\n",
       "    <tr>\n",
       "      <td>5569</td>\n",
       "      <td>ham</td>\n",
       "      <td>Pity, * was in mood for that. So...any other s...</td>\n",
       "    </tr>\n",
       "    <tr>\n",
       "      <td>5570</td>\n",
       "      <td>ham</td>\n",
       "      <td>The guy did some bitching but I acted like i'd...</td>\n",
       "    </tr>\n",
       "    <tr>\n",
       "      <td>5571</td>\n",
       "      <td>ham</td>\n",
       "      <td>Rofl. Its true to its name</td>\n",
       "    </tr>\n",
       "  </tbody>\n",
       "</table>\n",
       "<p>5572 rows × 2 columns</p>\n",
       "</div>"
      ],
      "text/plain": [
       "     Label                                                SMS\n",
       "0      ham  Go until jurong point, crazy.. Available only ...\n",
       "1      ham                      Ok lar... Joking wif u oni...\n",
       "2     spam  Free entry in 2 a wkly comp to win FA Cup fina...\n",
       "3      ham  U dun say so early hor... U c already then say...\n",
       "4      ham  Nah I don't think he goes to usf, he lives aro...\n",
       "...    ...                                                ...\n",
       "5567  spam  This is the 2nd time we have tried 2 contact u...\n",
       "5568   ham               Will ü b going to esplanade fr home?\n",
       "5569   ham  Pity, * was in mood for that. So...any other s...\n",
       "5570   ham  The guy did some bitching but I acted like i'd...\n",
       "5571   ham                         Rofl. Its true to its name\n",
       "\n",
       "[5572 rows x 2 columns]"
      ]
     },
     "execution_count": 2,
     "metadata": {},
     "output_type": "execute_result"
    }
   ],
   "source": [
    "sms"
   ]
  },
  {
   "cell_type": "code",
   "execution_count": 3,
   "metadata": {},
   "outputs": [
    {
     "data": {
      "text/html": [
       "<div>\n",
       "<style scoped>\n",
       "    .dataframe tbody tr th:only-of-type {\n",
       "        vertical-align: middle;\n",
       "    }\n",
       "\n",
       "    .dataframe tbody tr th {\n",
       "        vertical-align: top;\n",
       "    }\n",
       "\n",
       "    .dataframe thead th {\n",
       "        text-align: right;\n",
       "    }\n",
       "</style>\n",
       "<table border=\"1\" class=\"dataframe\">\n",
       "  <thead>\n",
       "    <tr style=\"text-align: right;\">\n",
       "      <th></th>\n",
       "      <th>Label</th>\n",
       "      <th>SMS</th>\n",
       "    </tr>\n",
       "  </thead>\n",
       "  <tbody>\n",
       "    <tr>\n",
       "      <td>count</td>\n",
       "      <td>5572</td>\n",
       "      <td>5572</td>\n",
       "    </tr>\n",
       "    <tr>\n",
       "      <td>unique</td>\n",
       "      <td>2</td>\n",
       "      <td>5169</td>\n",
       "    </tr>\n",
       "    <tr>\n",
       "      <td>top</td>\n",
       "      <td>ham</td>\n",
       "      <td>Sorry, I'll call later</td>\n",
       "    </tr>\n",
       "    <tr>\n",
       "      <td>freq</td>\n",
       "      <td>4825</td>\n",
       "      <td>30</td>\n",
       "    </tr>\n",
       "  </tbody>\n",
       "</table>\n",
       "</div>"
      ],
      "text/plain": [
       "       Label                     SMS\n",
       "count   5572                    5572\n",
       "unique     2                    5169\n",
       "top      ham  Sorry, I'll call later\n",
       "freq    4825                      30"
      ]
     },
     "execution_count": 3,
     "metadata": {},
     "output_type": "execute_result"
    }
   ],
   "source": [
    "sms.describe(include='all')"
   ]
  },
  {
   "cell_type": "code",
   "execution_count": 4,
   "metadata": {},
   "outputs": [
    {
     "data": {
      "text/plain": [
       "True    5572\n",
       "Name: Label, dtype: int64"
      ]
     },
     "execution_count": 4,
     "metadata": {},
     "output_type": "execute_result"
    }
   ],
   "source": [
    "sms['Label'].notnull().value_counts()"
   ]
  },
  {
   "cell_type": "code",
   "execution_count": 5,
   "metadata": {},
   "outputs": [
    {
     "name": "stdout",
     "output_type": "stream",
     "text": [
      "% Ham  : 86.59368269921033\n",
      "% Spam : 13.406317300789667\n"
     ]
    }
   ],
   "source": [
    "nr_ham = sms[sms['Label'] == 'ham'].shape[0]\n",
    "nr_messages = sms.shape[0]\n",
    "\n",
    "pct_ham = nr_ham/nr_messages*100\n",
    "pct_spam = 100 - pct_ham\n",
    "print('% Ham  : ' + str(pct_ham))\n",
    "print('% Spam : ' + str(pct_spam))"
   ]
  },
  {
   "cell_type": "markdown",
   "metadata": {},
   "source": [
    "## Creating the Training and Test Sets\n",
    "I will use random sampling to generate representative training and test sets of the data. I will use the training set data to train the software to recognize spam/ham messages. I will use the test data to test how accurate the software's predictions are."
   ]
  },
  {
   "cell_type": "code",
   "execution_count": 6,
   "metadata": {},
   "outputs": [],
   "source": [
    "sms_random = sms.sample(frac=1)\n",
    "eighty_pct = round(0.8*len(sms_random))\n",
    "\n",
    "training_set = sms_random[:eighty_pct]\n",
    "test_set = sms_random[eighty_pct:]\n",
    "\n",
    "training_set.reset_index(drop=True, inplace=True)\n",
    "test_set.reset_index(drop=True, inplace=True)"
   ]
  },
  {
   "cell_type": "code",
   "execution_count": 7,
   "metadata": {},
   "outputs": [
    {
     "name": "stdout",
     "output_type": "stream",
     "text": [
      "Training set ham % : 86.60834454912518\n",
      "Test set ham %     : 86.53500897666068\n"
     ]
    }
   ],
   "source": [
    "# Ensuring the training set and test set are of similar proportion to the original\n",
    "\n",
    "nr_ham_training = training_set[training_set['Label'] == 'ham'].shape[0]\n",
    "nr_ham_test = test_set[test_set['Label'] == 'ham'].shape[0]\n",
    "\n",
    "nr_messages_training = training_set.shape[0]\n",
    "nr_messages_test = test_set.shape[0]\n",
    "\n",
    "pct_ham_training = nr_ham_training/nr_messages_training*100\n",
    "pct_spam_training = 100 - pct_ham_training\n",
    "\n",
    "pct_ham_test = nr_ham_test/nr_messages_test*100\n",
    "pct_spam_test = 100 - pct_ham_test\n",
    "    \n",
    "print('Training set ham % : ' + str(pct_ham_training))\n",
    "print('Test set ham %     : ' + str(pct_ham_test))"
   ]
  },
  {
   "cell_type": "markdown",
   "metadata": {},
   "source": [
    "## The Naive Bayes Algorithm\n",
    "The Naive Bayes algorithm uses the rules of conditional probability to classify inputs. The relations for the Naive Bayes algorithm that I will use to classify messages in my spam filter are:\n",
    "\n",
    "$$P(Ham)|w_{1},w_{2},...,w_{n}) \\propto P(Ham) \\cdot \\prod_{i=1}^n P(w_{i}|Ham)$$\n",
    "\n",
    "$$P(Spam)|w_{1},w_{2},...,w_{n}) \\propto P(Spam) \\cdot \\prod_{i=1}^n P(w_{i}|Spam)$$\n",
    "\n",
    "where:<br/>\n",
    "&emsp;&emsp;$P(Ham) =$ the probability that a message is \"ham\" in the training set<br/>\n",
    "&emsp;&emsp;$P(Spam) =$ the probability that a message is \"spam\" in the training set<br/>\n",
    "&emsp;&emsp;$P(Ham)|w_{1},w_{2},...,w_{n}) =$ the probability that a message is \"ham\" based on each individual word in the message<br/>\n",
    "&emsp;&emsp;$P(Spam)|w_{1},w_{2},...,w_{n}) =$ the probability that a message is \"spam\" based on each individual word in the message<br/>\n",
    "&emsp;&emsp;$P(w_{i}|Ham) =$ the probability that word *i* is in a message, given that that message is \"ham\"<br/>\n",
    "&emsp;&emsp;$P(w_{i}|Spam) =$ the probability that word *i* is in a message, given that that message is \"spam\"<br/>\n",
    "\n",
    "In order to calculate $P(w_{i}|Ham)$ and $P(w_{i}|Spam)$, I will use these equations:\n",
    "\n",
    "$$P(w_{i}|Ham) = \\frac{N_{w_{i}|Ham} + \\alpha}{N_{Ham} + \\alpha \\cdot N_{vocabulary}}$$\n",
    "\n",
    "$$P(w_{i}|Spam) = \\frac{N_{w_{i}|Spam} + \\alpha}{N_{Spam} + \\alpha \\cdot N_{vocabulary}}$$\n",
    "\n",
    "where:<br/>\n",
    "&emsp;&emsp;$N_{w_{i}|Ham} =$ the number of times word *i* appears in the \"ham\" messages of the training set<br/>\n",
    "&emsp;&emsp;$N_{w_{i}|Spam} =$ the number of times word *i* appears in the \"spam\" messages of the training set<br/>\n",
    "&emsp;&emsp;$N_{Ham} =$ the number of \"ham\" messages there are in the training set<br/>\n",
    "&emsp;&emsp;$N_{Spam} =$ the number of \"spam\" messages there are in the training set<br/>\n",
    "&emsp;&emsp;$N_{vocabulary} =$ the number of unique words that exist in the training set vocabulary<br/>\n",
    "&emsp;&emsp;$\\alpha =$ a smoothing parameter<br/>\n",
    "\n",
    "To solve these equations, I first must calculate the value of the variables.\n",
    "\n",
    "To do that, I will split each training message into its individual words, generate a vocabulary list comprised of all unique words in the training set, and calculate each word count per message in the training set."
   ]
  },
  {
   "cell_type": "code",
   "execution_count": 8,
   "metadata": {},
   "outputs": [],
   "source": [
    "# Splitting each training message into its individual words\n",
    "\n",
    "pd.options.mode.chained_assignment = None #Disabling the SettingWithCopy warning since it is benign in this case\n",
    "\n",
    "training_set['SMS'] = training_set['SMS'].str.replace('\\W',' ').str.lower().str.split().copy()\n",
    "\n",
    "pd.options.mode.chained_assignment = 'warn' #Re-enabling the SettingWithCopy warning"
   ]
  },
  {
   "cell_type": "code",
   "execution_count": 9,
   "metadata": {},
   "outputs": [],
   "source": [
    "# Generating a unique vocabulary list\n",
    "\n",
    "vocab = set()\n",
    "\n",
    "for message in training_set['SMS']:\n",
    "    for word in message:\n",
    "        if word not in vocab:\n",
    "            vocab.add(word)\n",
    "            \n",
    "vocab = list(vocab)"
   ]
  },
  {
   "cell_type": "code",
   "execution_count": 10,
   "metadata": {},
   "outputs": [],
   "source": [
    "# Calculating each word count per training set message\n",
    "\n",
    "word_counts_per_sms = {word: [0] * len(training_set['SMS']) for word in vocab}\n",
    "    \n",
    "for index, message in enumerate(training_set['SMS']):\n",
    "    for word in message:\n",
    "        word_counts_per_sms[word][index] += 1\n",
    "        \n",
    "word_counts_per_sms = pd.DataFrame(word_counts_per_sms)"
   ]
  },
  {
   "cell_type": "code",
   "execution_count": 11,
   "metadata": {},
   "outputs": [],
   "source": [
    "# Combining the training dataset with the word counts dataset\n",
    "\n",
    "training_set_word_count = pd.concat([training_set, word_counts_per_sms], axis=1)"
   ]
  },
  {
   "cell_type": "markdown",
   "metadata": {},
   "source": [
    "### Calculating the Variables\n",
    "Now that my data is prepared, I am ready to calculate the variables for my multinomial Naive Bayes algorithm."
   ]
  },
  {
   "cell_type": "code",
   "execution_count": 12,
   "metadata": {},
   "outputs": [],
   "source": [
    "training_ham = training_set_word_count[training_set_word_count['Label'] == 'ham']\n",
    "training_spam = training_set_word_count[training_set_word_count['Label'] == 'spam']\n",
    "\n",
    "p_ham = pct_ham_training/100\n",
    "p_spam = 1 - p_ham\n",
    "\n",
    "n_ham = training_ham['SMS'].apply(len).sum()\n",
    "n_spam = training_spam['SMS'].apply(len).sum()\n",
    "        \n",
    "n_vocab = len(vocab)\n",
    "\n",
    "alpha = 1 #Laplace smoothing"
   ]
  },
  {
   "cell_type": "code",
   "execution_count": 13,
   "metadata": {},
   "outputs": [],
   "source": [
    "p_wi_ham = {word:0 for word in vocab}\n",
    "p_wi_spam = {word:0 for word in vocab}\n",
    "\n",
    "for key in p_wi_ham:\n",
    "    n_wi_ham = training_ham[key].sum()\n",
    "    p_wi_ham[key] = (n_wi_ham + alpha)/(n_ham + alpha * n_vocab)\n",
    "    \n",
    "for key in p_wi_spam:\n",
    "    n_wi_spam = training_spam[key].sum()\n",
    "    p_wi_spam[key] = (n_wi_spam + alpha)/(n_spam + alpha * n_vocab)"
   ]
  },
  {
   "cell_type": "markdown",
   "metadata": {},
   "source": [
    "### The Naive Bayes Algorithm\n",
    "For the Naive Bayes algorithm, I will create a function that takes in an SMS message. The function will parse the message into separate words, calculate $P(Ham)|w_{1},w_{2},...,w_{n})$ and $P(Spam)|w_{1},w_{2},...,w_{n})$, print the value of each, compare the two, and then print whether the message is \"ham\" or \"spam.\""
   ]
  },
  {
   "cell_type": "code",
   "execution_count": 14,
   "metadata": {},
   "outputs": [],
   "source": [
    "import re\n",
    "\n",
    "def classify(message):\n",
    "    \n",
    "    re.sub('\\W', ' ', message)\n",
    "    message = message.lower().split()\n",
    "    \n",
    "    p_ham_given_message = p_ham\n",
    "    p_spam_given_message = p_spam\n",
    "    \n",
    "    for word in message:\n",
    "        if word in p_wi_ham:\n",
    "            p_ham_given_message *= p_wi_ham[word]\n",
    "        if word in p_wi_spam:\n",
    "            p_spam_given_message *= p_wi_spam[word]\n",
    "    \n",
    "    print('P(Ham|message):', p_ham_given_message)\n",
    "    print('P(Spam|message):', p_spam_given_message)\n",
    "    \n",
    "    if p_ham_given_message > p_spam_given_message:\n",
    "        print('Label: Ham!')\n",
    "    elif p_ham_given_message < p_spam_given_message:\n",
    "        print('Label: Spam!')\n",
    "    else:\n",
    "        print('equal probabilities, have a human classify this!')"
   ]
  },
  {
   "cell_type": "code",
   "execution_count": 15,
   "metadata": {},
   "outputs": [
    {
     "name": "stdout",
     "output_type": "stream",
     "text": [
      "P(Ham|message): 2.0590497250330344e-19\n",
      "P(Spam|message): 1.2053834559792751e-18\n",
      "Label: Spam!\n",
      "P(Ham|message): 3.711313692213348e-14\n",
      "P(Spam|message): 8.972764800041065e-18\n",
      "Label: Ham!\n"
     ]
    }
   ],
   "source": [
    "# Testing the message with known inputs\n",
    "\n",
    "test_message_1 = 'WINNER!! This is the secret code to unlock the money: C3421.' #Spam message\n",
    "test_message_2 = 'Sounds good, Tom, then see u there' #Ham message\n",
    "\n",
    "classify(test_message_1)\n",
    "classify(test_message_2)"
   ]
  },
  {
   "cell_type": "markdown",
   "metadata": {},
   "source": [
    "## Testing the Test Set\n",
    "I will now alter the above Naive Bayes algorithm so that it prints nothing and instead returns the classification value of the message. Then, I will run the function on each message in the test set and store its value in a new column of the test set."
   ]
  },
  {
   "cell_type": "code",
   "execution_count": 16,
   "metadata": {},
   "outputs": [],
   "source": [
    "def classify_test_set(message):\n",
    "    \n",
    "    re.sub('\\W', ' ', message)\n",
    "    message = message.lower().split()\n",
    "    \n",
    "    p_ham_given_message = p_ham\n",
    "    p_spam_given_message = p_spam\n",
    "    \n",
    "    for word in message:\n",
    "        if word in p_wi_ham:\n",
    "            p_ham_given_message *= p_wi_ham[word]\n",
    "        if word in p_wi_spam:\n",
    "            p_spam_given_message *= p_wi_spam[word]\n",
    "    \n",
    "    if p_ham_given_message > p_spam_given_message:\n",
    "        return 'ham'\n",
    "    elif p_ham_given_message < p_spam_given_message:\n",
    "        return 'spam'\n",
    "    else:\n",
    "        return 'needs human classification'"
   ]
  },
  {
   "cell_type": "code",
   "execution_count": 17,
   "metadata": {},
   "outputs": [
    {
     "data": {
      "text/html": [
       "<div>\n",
       "<style scoped>\n",
       "    .dataframe tbody tr th:only-of-type {\n",
       "        vertical-align: middle;\n",
       "    }\n",
       "\n",
       "    .dataframe tbody tr th {\n",
       "        vertical-align: top;\n",
       "    }\n",
       "\n",
       "    .dataframe thead th {\n",
       "        text-align: right;\n",
       "    }\n",
       "</style>\n",
       "<table border=\"1\" class=\"dataframe\">\n",
       "  <thead>\n",
       "    <tr style=\"text-align: right;\">\n",
       "      <th></th>\n",
       "      <th>Label</th>\n",
       "      <th>SMS</th>\n",
       "      <th>predicted</th>\n",
       "    </tr>\n",
       "  </thead>\n",
       "  <tbody>\n",
       "    <tr>\n",
       "      <td>0</td>\n",
       "      <td>ham</td>\n",
       "      <td>In that case I guess I'll see you at campus lodge</td>\n",
       "      <td>ham</td>\n",
       "    </tr>\n",
       "    <tr>\n",
       "      <td>1</td>\n",
       "      <td>ham</td>\n",
       "      <td>We are hoping to get away by 7, from Langport....</td>\n",
       "      <td>ham</td>\n",
       "    </tr>\n",
       "    <tr>\n",
       "      <td>2</td>\n",
       "      <td>ham</td>\n",
       "      <td>Aiyo please ü got time meh.</td>\n",
       "      <td>ham</td>\n",
       "    </tr>\n",
       "    <tr>\n",
       "      <td>3</td>\n",
       "      <td>ham</td>\n",
       "      <td>No you'll just get a headache trying to figure...</td>\n",
       "      <td>ham</td>\n",
       "    </tr>\n",
       "    <tr>\n",
       "      <td>4</td>\n",
       "      <td>ham</td>\n",
       "      <td>Ok i'm coming home now.</td>\n",
       "      <td>ham</td>\n",
       "    </tr>\n",
       "  </tbody>\n",
       "</table>\n",
       "</div>"
      ],
      "text/plain": [
       "  Label                                                SMS predicted\n",
       "0   ham  In that case I guess I'll see you at campus lodge       ham\n",
       "1   ham  We are hoping to get away by 7, from Langport....       ham\n",
       "2   ham                        Aiyo please ü got time meh.       ham\n",
       "3   ham  No you'll just get a headache trying to figure...       ham\n",
       "4   ham                            Ok i'm coming home now.       ham"
      ]
     },
     "execution_count": 17,
     "metadata": {},
     "output_type": "execute_result"
    }
   ],
   "source": [
    "pd.options.mode.chained_assignment = None #Disabling the SettingWithCopy warning since it is benign in this case\n",
    "\n",
    "test_set['predicted'] = test_set['SMS'].apply(classify_test_set) #Creating new test set column with predicted values\n",
    "\n",
    "pd.options.mode.chained_assignment = 'warn' #Re-enabling the SettingWithCopy warning\n",
    "\n",
    "test_set.head()"
   ]
  },
  {
   "cell_type": "markdown",
   "metadata": {},
   "source": [
    "### Checking for Accuracy\n",
    "I will now check the accuracy of my Naive Bayes spam filter."
   ]
  },
  {
   "cell_type": "code",
   "execution_count": 18,
   "metadata": {},
   "outputs": [
    {
     "name": "stdout",
     "output_type": "stream",
     "text": [
      "Correct: 1095\n",
      "Incorrect: 19\n",
      "Accuracy: 98.29443447037703%\n"
     ]
    }
   ],
   "source": [
    "correct = 0 \n",
    "total = len(test_set)\n",
    "\n",
    "for row in test_set.iterrows():\n",
    "    row = row[1]\n",
    "    if row['Label'] == row['predicted']:\n",
    "        correct += 1\n",
    "        \n",
    "accuracy = correct/total*100\n",
    "\n",
    "print('Correct:', correct)\n",
    "print('Incorrect:', total - correct)\n",
    "print('Accuracy: ' + str(accuracy) + '%')"
   ]
  },
  {
   "cell_type": "markdown",
   "metadata": {},
   "source": [
    "## Conclusion\n"
   ]
  },
  {
   "cell_type": "markdown",
   "metadata": {},
   "source": [
    "My multinomial Naive Bayes algorithm spam filter is 98.3% accurate for this training/test set. My spam filter checked 1,114 test messages and correctly classified 1,095 of these messages. This is good accuracy, since a spam filter that simply assumes every message is \"ham\" would have an accuracy of about 86%.\n",
    "\n",
    "### Next Steps\n",
    "* Review the incorrectly classified messages. If any are ham, find out if they all share something in common that caused them to be misclassified."
   ]
  },
  {
   "cell_type": "code",
   "execution_count": null,
   "metadata": {},
   "outputs": [],
   "source": []
  }
 ],
 "metadata": {
  "kernelspec": {
   "display_name": "Python 3",
   "language": "python",
   "name": "python3"
  },
  "language_info": {
   "codemirror_mode": {
    "name": "ipython",
    "version": 3
   },
   "file_extension": ".py",
   "mimetype": "text/x-python",
   "name": "python",
   "nbconvert_exporter": "python",
   "pygments_lexer": "ipython3",
   "version": "3.7.4"
  }
 },
 "nbformat": 4,
 "nbformat_minor": 2
}
